{
 "cells": [
  {
   "cell_type": "code",
   "execution_count": 1,
   "metadata": {},
   "outputs": [
    {
     "data": {
      "text/plain": [
       "<tf.Tensor: shape=(3,), dtype=int32, numpy=array([3, 6, 9])>"
      ]
     },
     "execution_count": 1,
     "metadata": {},
     "output_type": "execute_result"
    }
   ],
   "source": [
    "import tensorflow as tf\n",
    "\n",
    "# tf.Module is necessary for using @tf.function\n",
    "\n",
    "\n",
    "class Module(tf.Module):\n",
    "    def __init__(self, val):\n",
    "        self.weight = tf.Variable(val)\n",
    "\n",
    "    @tf.function\n",
    "    def fun(self, x):\n",
    "        return x * self.weight\n",
    "\n",
    "\n",
    "mod = Module(3)\n",
    "mod.fun(tf.constant([1, 2, 3]))\n"
   ]
  },
  {
   "cell_type": "code",
   "execution_count": 2,
   "metadata": {},
   "outputs": [
    {
     "name": "stdout",
     "output_type": "stream",
     "text": [
      "INFO:tensorflow:Assets written to: ./Saved Models/assets\n",
      "tf.Tensor([12 15 18], shape=(3,), dtype=int32)\n"
     ]
    }
   ],
   "source": [
    "model_path = \"./Saved Models/\"\n",
    "tf.saved_model.save(mod, model_path)\n",
    "\n",
    "\n",
    "loaded_model = tf.saved_model.load(model_path)\n",
    "print(loaded_model.fun(tf.constant([4, 5, 6])))\n"
   ]
  }
 ],
 "metadata": {
  "interpreter": {
   "hash": "35146d2ce121e8e653791712ad16cca408ea08bd1c84e92938f653a743d84e6c"
  },
  "kernelspec": {
   "display_name": "Python 3.8.10 64-bit ('Graphs': conda)",
   "language": "python",
   "name": "python3"
  },
  "language_info": {
   "codemirror_mode": {
    "name": "ipython",
    "version": 3
   },
   "file_extension": ".py",
   "mimetype": "text/x-python",
   "name": "python",
   "nbconvert_exporter": "python",
   "pygments_lexer": "ipython3",
   "version": "3.8.10"
  },
  "orig_nbformat": 4
 },
 "nbformat": 4,
 "nbformat_minor": 2
}
