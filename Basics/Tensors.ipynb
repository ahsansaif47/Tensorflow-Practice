{
 "cells": [
  {
   "cell_type": "markdown",
   "metadata": {},
   "source": [
    "# **Importing Libraries**"
   ]
  },
  {
   "cell_type": "code",
   "execution_count": 1,
   "metadata": {},
   "outputs": [],
   "source": [
    "import tensorflow as tf\n",
    "import numpy as np"
   ]
  },
  {
   "cell_type": "markdown",
   "metadata": {},
   "source": [
    "# **Differant rank tensors**"
   ]
  },
  {
   "cell_type": "code",
   "execution_count": 11,
   "metadata": {},
   "outputs": [
    {
     "name": "stdout",
     "output_type": "stream",
     "text": [
      "tf.Tensor(4, shape=(), dtype=int32)\n",
      "tf.Tensor([1 2 3], shape=(3,), dtype=int32)\n",
      "tf.Tensor(\n",
      "[[1 2 3]\n",
      " [4 5 6]\n",
      " [7 8 9]], shape=(3, 3), dtype=int32)\n",
      "tf.Tensor(\n",
      "[[[1 1]\n",
      "  [1 1]\n",
      "  [1 1]]\n",
      "\n",
      " [[2 2]\n",
      "  [2 2]\n",
      "  [2 2]]\n",
      "\n",
      " [[3 3]\n",
      "  [3 3]\n",
      "  [3 3]]], shape=(3, 3, 2), dtype=int32)\n"
     ]
    }
   ],
   "source": [
    "# Rank-0 tensor is a simple scaler value.. for e.g 4 is a rank-0 tensor\n",
    "rank_0_tensor = tf.constant(4)\n",
    "print(rank_0_tensor)\n",
    "\n",
    "# Rank-1 tensor is like a vector.. for e.g a list..\n",
    "rank_1_tensor = tf.constant([1,2,3])\n",
    "print(rank_1_tensor)\n",
    "\n",
    "# Rank-2 tensor is like a matrix.. for e.g a 2d lists..\n",
    "rank_2_tensor = tf.constant([\n",
    "    [1,2,3],\n",
    "    [4,5,6],\n",
    "    [7,8,9]\n",
    "])\n",
    "print(rank_2_tensor)\n",
    "\n",
    "# Rank-3 tensor is a 3D matrix.. \n",
    "rank_3_tensor = tf.constant([\n",
    "    [[1,1],[1,1],[1,1]],\n",
    "    [[2,2],[2,2],[2,2]],\n",
    "    [[3,3],[3,3],[3,3]]\n",
    "])\n",
    "print(rank_3_tensor)"
   ]
  },
  {
   "cell_type": "markdown",
   "metadata": {},
   "source": [
    "# **Converting tensor to numpy arrays**"
   ]
  },
  {
   "cell_type": "code",
   "execution_count": 16,
   "metadata": {},
   "outputs": [
    {
     "name": "stdout",
     "output_type": "stream",
     "text": [
      "Rank-0 tensor->numpy:  4\n",
      "Rank-1 tensor->numpy:  [1 2 3]\n"
     ]
    }
   ],
   "source": [
    "# We can eith use np.array() or tensor.numpy() to convert a tensor to a numpy array..\n",
    "r0_numpy = np.array(rank_0_tensor)\n",
    "print(\"Rank-0 tensor->numpy: \", r0_numpy)\n",
    "\n",
    "r1_numpy = rank_1_tensor.numpy()\n",
    "print(\"Rank-1 tensor->numpy: \", r1_numpy)\n",
    "\n",
    "# Similarly we can convert tensors of other shapes to numpy arrays using these functions.."
   ]
  },
  {
   "cell_type": "markdown",
   "metadata": {},
   "source": [
    "# **Maths on Tensors**"
   ]
  },
  {
   "cell_type": "code",
   "execution_count": 30,
   "metadata": {},
   "outputs": [
    {
     "name": "stdout",
     "output_type": "stream",
     "text": [
      "Addition:  tf.Tensor(\n",
      "[[2. 3.]\n",
      " [4. 5.]], shape=(2, 2), dtype=float32)\n",
      "Multiplication:  tf.Tensor(\n",
      "[[1. 2.]\n",
      " [3. 4.]], shape=(2, 2), dtype=float32)\n",
      "Matmul:  tf.Tensor(\n",
      "[[3. 3.]\n",
      " [7. 7.]], shape=(2, 2), dtype=float32)\n"
     ]
    }
   ],
   "source": [
    "# t1 is a 2x2 tesnor of ones..\n",
    "t1 = tf.constant(tf.ones([2,2]))\n",
    "t2 = tf.constant([[1,2],[3,4]], dtype='float32')\n",
    "\n",
    "print(\"Addition: \", tf.add(t1, t2))\n",
    "print(\"Multiplication: \", tf.multiply(t1, t2))\n",
    "print(\"Matmul: \", tf.linalg.matmul(t2, t1))"
   ]
  },
  {
   "cell_type": "markdown",
   "metadata": {},
   "source": [
    "# **Other tensor operations**"
   ]
  },
  {
   "cell_type": "code",
   "execution_count": 60,
   "metadata": {},
   "outputs": [
    {
     "name": "stdout",
     "output_type": "stream",
     "text": [
      "Rank is:  tf.Tensor(2, shape=(), dtype=int32)\n",
      "Largest value:  tf.Tensor(10.0, shape=(), dtype=float32)\n",
      "Largest value index:  tf.Tensor([1 0], shape=(2,), dtype=int64)\n",
      "Softmax result:  tf.Tensor(\n",
      "[[2.6894143e-01 7.3105860e-01]\n",
      " [9.9987662e-01 1.2339458e-04]], shape=(2, 2), dtype=float32)\n"
     ]
    }
   ],
   "source": [
    "x = tf.constant([\n",
    "    [4.0, 5.0],\n",
    "    [10.0, 1.0]\n",
    "])\n",
    "\n",
    "print(\"Rank is: \", tf.rank(x))\n",
    "\n",
    "# finding largest value..\n",
    "print(\"Largest value: \", tf.reduce_max(x))\n",
    "\n",
    "# index of largest value..\n",
    "print(\"Largest value index: \", tf.math.argmax(x))\n",
    "\n",
    "# doftmax on tensor..\n",
    "print(\"Softmax result: \", tf.math.softmax(x))"
   ]
  },
  {
   "cell_type": "markdown",
   "metadata": {},
   "source": [
    "# **4th rank-tensor and properties**"
   ]
  },
  {
   "cell_type": "code",
   "execution_count": 68,
   "metadata": {},
   "outputs": [
    {
     "name": "stdout",
     "output_type": "stream",
     "text": [
      "Rank of tensor is:  4\n",
      "Dimentions are:  4\n",
      "Elements data-type is:  <dtype: 'float32'>\n",
      "Tensor shape is:  (3, 2, 4, 5)\n",
      "Elements along axis 0 of tensor are:  3\n",
      "Elements along last axis of tensor are:  5\n",
      "Total elements are:  120\n"
     ]
    }
   ],
   "source": [
    "# creating a 4th renk tensor of ones..\n",
    "rank_4_tensor = tf.constant(tf.ones([3,2,4,5]))\n",
    "print(\"Rank of tensor is: \", tf.rank(rank_4_tensor).numpy())\n",
    "\n",
    "# checking dimentions..\n",
    "print(\"Dimentions are: \", rank_4_tensor.ndim)\n",
    "\n",
    "# checking element's data-type..\n",
    "print(\"Elements data-type is: \", rank_4_tensor.dtype)\n",
    "\n",
    "# tensor shape..\n",
    "print(\"Tensor shape is: \", rank_4_tensor.shape)\n",
    "\n",
    "# elements along axis-0\n",
    "print(\"Elements along axis 0 of tensor are: \", rank_4_tensor.shape[0])\n",
    "\n",
    "# elements along last\n",
    "print(\"Elements along last axis of tensor are: \", rank_4_tensor.shape[-1])\n",
    "\n",
    "# total number of elements in rank-4 tensor..\n",
    "print(\"Total elements are: \", tf.size(rank_4_tensor).numpy())"
   ]
  },
  {
   "cell_type": "markdown",
   "metadata": {},
   "source": [
    "# **Rank-4 tensor shape analysis**"
   ]
  },
  {
   "cell_type": "markdown",
   "metadata": {},
   "source": [
    "### Tensor-shape: (A, B, C, D)\n",
    "* A -> Batch-size\n",
    "* B -> Width\n",
    "* C -> Height\n",
    "* D -> Features\n"
   ]
  },
  {
   "cell_type": "markdown",
   "metadata": {},
   "source": [
    "# **Rank-1 Tensor and indexing**"
   ]
  },
  {
   "cell_type": "code",
   "execution_count": 75,
   "metadata": {},
   "outputs": [
    {
     "name": "stdout",
     "output_type": "stream",
     "text": [
      "Complete tensor:  [ 0  1  1  2  3  5  8 13 21 34]\n",
      "Start index-->4th index:  [0 1 1 2]\n",
      "4th index-->last index:  [ 3  5  8 13 21 34]\n",
      "2th index-->7th index:  [1 2 3 5 8]\n",
      "Skipping alternates:  [ 0  1  3  8 21]\n",
      "Reversed:  [34 21 13  8  5  3  2  1  1  0]\n"
     ]
    }
   ],
   "source": [
    "sample = tf.constant([0, 1, 1, 2, 3, 5, 8, 13, 21, 34])\n",
    "\n",
    "# complete tensor..\n",
    "print(\"Complete tensor: \", sample[:].numpy())\n",
    "# start to 4th index..\n",
    "print(\"Start index-->4th index: \", sample[:4].numpy())\n",
    "# 4th index till end..\n",
    "print(\"4th index-->last index: \", sample[4:].numpy())\n",
    "# 2nd till 7th index..\n",
    "print(\"2th index-->7th index: \", sample[2:7].numpy())\n",
    "# skip 1 element from alternates..\n",
    "print(\"Skipping alternates: \", sample[::2].numpy())\n",
    "# printing in reverse..\n",
    "print(\"Reversed: \", sample[::-1].numpy())"
   ]
  },
  {
   "cell_type": "markdown",
   "metadata": {},
   "source": [
    "# **Rank-2 Tensor and indexing**"
   ]
  },
  {
   "cell_type": "code",
   "execution_count": 92,
   "metadata": {},
   "outputs": [
    {
     "name": "stdout",
     "output_type": "stream",
     "text": [
      "Rank-2 tensor is:  tf.Tensor(\n",
      "[[1 2 3]\n",
      " [4 5 6]\n",
      " [7 8 9]], shape=(3, 3), dtype=int32)\n",
      "Second row:  tf.Tensor([4 5 6], shape=(3,), dtype=int32)\n",
      "Second column:  tf.Tensor([2 5 8], shape=(3,), dtype=int32)\n",
      "Last row:  tf.Tensor([7 8 9], shape=(3,), dtype=int32)\n",
      "Last column:  tf.Tensor([3 6 9], shape=(3,), dtype=int32)\n",
      "First item in last column is:  tf.Tensor(3, shape=(), dtype=int32)\n",
      "Skipping 1st row: \n",
      "tf.Tensor(\n",
      "[[4 5 6]\n",
      " [7 8 9]], shape=(2, 3), dtype=int32)\n"
     ]
    }
   ],
   "source": [
    "r2_tensor = rank_2_tensor\n",
    "print(\"Rank-2 tensor is: \", r2_tensor)\n",
    "\n",
    "# second row..\n",
    "print(\"Second row: \", r2_tensor[1,:])\n",
    "# second column..\n",
    "print(\"Second column: \", r2_tensor[:,1])\n",
    "# last row..\n",
    "print(\"Last row: \", r2_tensor[-1,:])\n",
    "# last column..\n",
    "print(\"Last column: \", r2_tensor[:,-1])\n",
    "# first item in last column..\n",
    "print(\"First item in last column is: \", r2_tensor[0,-1])\n",
    "# skipping 1st row..\n",
    "print(\"Skipping 1st row: \")\n",
    "print(r2_tensor[1:,:])"
   ]
  }
 ],
 "metadata": {
  "interpreter": {
   "hash": "3529a8ba92937b42323cef91b58612b0fa5e03d505ee7d489286c5e965845af1"
  },
  "kernelspec": {
   "display_name": "Python 3.8.12 ('Machine_Learning')",
   "language": "python",
   "name": "python3"
  },
  "language_info": {
   "codemirror_mode": {
    "name": "ipython",
    "version": 3
   },
   "file_extension": ".py",
   "mimetype": "text/x-python",
   "name": "python",
   "nbconvert_exporter": "python",
   "pygments_lexer": "ipython3",
   "version": "3.8.12"
  },
  "orig_nbformat": 4
 },
 "nbformat": 4,
 "nbformat_minor": 2
}
