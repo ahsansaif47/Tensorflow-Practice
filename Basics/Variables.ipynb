{
 "cells": [
  {
   "cell_type": "markdown",
   "metadata": {},
   "source": [
    "# **Importing tensorflow and other libraries** "
   ]
  },
  {
   "cell_type": "code",
   "execution_count": 1,
   "metadata": {},
   "outputs": [],
   "source": [
    "import tensorflow as tf\n",
    "import numpy as np"
   ]
  },
  {
   "cell_type": "markdown",
   "metadata": {},
   "source": [
    "# **Tensorflow Variables**"
   ]
  },
  {
   "cell_type": "code",
   "execution_count": 13,
   "metadata": {},
   "outputs": [
    {
     "name": "stdout",
     "output_type": "stream",
     "text": [
      "Converted variable is:  <tf.Variable 'Variable:0' shape=(2, 2) dtype=int32, numpy=\n",
      "array([[1, 2],\n",
      "       [3, 4]])>\n",
      "Tf variable --> numpy array is:  [[1 2]\n",
      " [3 4]]\n"
     ]
    }
   ],
   "source": [
    "# declaring tf constant..\n",
    "x = tf.constant([[1,2],[3,4]])\n",
    "\n",
    "# converting it to a tf variable..\n",
    "y = tf.Variable(x)\n",
    "print(\"Converted variable is: \", y)\n",
    "\n",
    "# converting it to a numpy array..\n",
    "nArray = y.numpy()\n",
    "print(\"Tf variable --> numpy array is: \", nArray)"
   ]
  },
  {
   "cell_type": "markdown",
   "metadata": {},
   "source": [
    "# **Checking properties**"
   ]
  },
  {
   "cell_type": "code",
   "execution_count": 14,
   "metadata": {},
   "outputs": [
    {
     "name": "stdout",
     "output_type": "stream",
     "text": [
      "Type is:  <dtype: 'int32'>\n",
      "Shape is:  (2, 2)\n"
     ]
    }
   ],
   "source": [
    "print(\"Type is: \", y.dtype)\n",
    "print(\"Shape is: \", y.shape)"
   ]
  },
  {
   "cell_type": "markdown",
   "metadata": {},
   "source": [
    "# **Other variable functions**"
   ]
  },
  {
   "cell_type": "code",
   "execution_count": 16,
   "metadata": {},
   "outputs": [
    {
     "name": "stdout",
     "output_type": "stream",
     "text": [
      "Printing tensor form:  tf.Tensor(\n",
      "[[1 2]\n",
      " [3 4]], shape=(2, 2), dtype=int32)\n",
      "Heighest value index is:  tf.Tensor([1 1], shape=(2,), dtype=int64)\n",
      "Reshaped varibale is:  tf.Tensor([[1 2 3 4]], shape=(1, 4), dtype=int32)\n"
     ]
    }
   ],
   "source": [
    "# converting variable to tensor..\n",
    "tens = tf.convert_to_tensor(y)\n",
    "print(\"Printing tensor form: \", tens)\n",
    "\n",
    "# getting heighest value index..\n",
    "print(\"Heighest value index is: \", tf.argmax(y))\n",
    "\n",
    "# reshaping variable to (1,4)\n",
    "print(\"Reshaped varibale is: \", tf.reshape(y, [1,4]))"
   ]
  },
  {
   "cell_type": "markdown",
   "metadata": {},
   "source": [
    "# **Re-assigning a variable**"
   ]
  },
  {
   "cell_type": "code",
   "execution_count": 21,
   "metadata": {},
   "outputs": [
    {
     "name": "stdout",
     "output_type": "stream",
     "text": [
      "Variable is:  <tf.Variable 'Variable:0' shape=(2,) dtype=int32, numpy=array([2, 3])>\n",
      "Reassigned variable is:  <tf.Variable 'Variable:0' shape=(2,) dtype=int32, numpy=array([1, 2])>\n"
     ]
    }
   ],
   "source": [
    "# Note:\n",
    "# tf.assign uses the memory of the same variable.\n",
    "# to create a new variable use tf.Variable.assign\n",
    "\n",
    "a = tf.Variable([2,3])\n",
    "print(\"Variable is: \", a)\n",
    "\n",
    "a.assign([1,2])\n",
    "print(\"Reassigned variable is: \", a)\n",
    "\n",
    "# variable reassignment requires the other varibale to be of the same size.."
   ]
  },
  {
   "cell_type": "markdown",
   "metadata": {},
   "source": [
    "# **Operations and reassignment**"
   ]
  },
  {
   "cell_type": "code",
   "execution_count": 23,
   "metadata": {},
   "outputs": [
    {
     "name": "stdout",
     "output_type": "stream",
     "text": [
      "Numpy of variable a is:  [5 6]\n",
      "Numpy of variable b is:  [1 2]\n",
      "Adding and reassigning a:  <tf.Variable 'UnreadVariable' shape=(2,) dtype=int32, numpy=array([6, 8])>\n",
      "Subtracting and reassigning a:  <tf.Variable 'UnreadVariable' shape=(2,) dtype=int32, numpy=array([0, 0])>\n"
     ]
    }
   ],
   "source": [
    "a = tf.Variable([1,2])\n",
    "b = tf.Variable(a)\n",
    "\n",
    "a.assign([5,6])\n",
    "print(\"Numpy of variable a is: \", a.numpy())\n",
    "print(\"Numpy of variable b is: \", b.numpy())\n",
    "\n",
    "# adding and re-assigning 'a'\n",
    "print(\"Adding and reassigning a: \", a.assign_add([1,2]))\n",
    "print(\"Subtracting and reassigning a: \", a.assign_sub([6,8]))"
   ]
  },
  {
   "cell_type": "markdown",
   "metadata": {},
   "source": [
    "# **Variables equality check**"
   ]
  },
  {
   "cell_type": "code",
   "execution_count": 28,
   "metadata": {},
   "outputs": [
    {
     "name": "stdout",
     "output_type": "stream",
     "text": [
      "Variable y:  <tf.Variable 'Variable:0' shape=(2, 2) dtype=int32, numpy=\n",
      "array([[1, 2],\n",
      "       [3, 4]])>\n",
      "y + 1:  <tf.Variable 'V1:0' shape=(2, 2) dtype=int32, numpy=\n",
      "array([[2, 3],\n",
      "       [4, 5]])>\n",
      "Variable equality:  tf.Tensor(\n",
      "[[False False]\n",
      " [False False]], shape=(2, 2), dtype=bool)\n"
     ]
    }
   ],
   "source": [
    "print(\"Variable y: \", y)\n",
    "v1 = tf.Variable(y, name = \"V1\")\n",
    "yplus = tf.Variable(y+1, name = \"V1\")\n",
    "print(\"y + 1: \", yplus)\n",
    "\n",
    "\n",
    "# checking two variables are equal or not..\n",
    "# despite the same name..\n",
    "# both are unequal..\n",
    "print(\"Variable equality: \", y==yplus)"
   ]
  },
  {
   "cell_type": "markdown",
   "metadata": {},
   "source": [
    "# **Variable-Constant operations**"
   ]
  },
  {
   "cell_type": "code",
   "execution_count": 31,
   "metadata": {},
   "outputs": [
    {
     "name": "stdout",
     "output_type": "stream",
     "text": [
      "Matrix mul of a and b is:  tf.Tensor(\n",
      "[[22 28]\n",
      " [49 64]], shape=(2, 2), dtype=int32)\n",
      "Element-wise multiplication:  tf.Tensor(\n",
      "[[ 1  4  9]\n",
      " [ 4 10 18]], shape=(2, 3), dtype=int32)\n"
     ]
    }
   ],
   "source": [
    "a = tf.constant([[1,2,3],[4,5,6]])\n",
    "b = tf.Variable([[1,2],[3,4],[5,6]])\n",
    "c = tf.constant([1,2,3])\n",
    "\n",
    "# Matrix multiplication..\n",
    "print(\"Matrix mul of a and b is: \", tf.matmul(a,b))\n",
    "\n",
    "# in element-wise multiplication elements should have the same order..\n",
    "print(\"Element-wise multiplication: \", a*c)"
   ]
  }
 ],
 "metadata": {
  "interpreter": {
   "hash": "3529a8ba92937b42323cef91b58612b0fa5e03d505ee7d489286c5e965845af1"
  },
  "kernelspec": {
   "display_name": "Python 3.8.12 ('Machine_Learning')",
   "language": "python",
   "name": "python3"
  },
  "language_info": {
   "codemirror_mode": {
    "name": "ipython",
    "version": 3
   },
   "file_extension": ".py",
   "mimetype": "text/x-python",
   "name": "python",
   "nbconvert_exporter": "python",
   "pygments_lexer": "ipython3",
   "version": "3.8.12"
  },
  "orig_nbformat": 4
 },
 "nbformat": 4,
 "nbformat_minor": 2
}
