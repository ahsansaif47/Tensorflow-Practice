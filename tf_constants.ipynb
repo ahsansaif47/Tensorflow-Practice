{
 "cells": [
  {
   "cell_type": "markdown",
   "metadata": {},
   "source": [
    "# Defining a constant and checking properties.."
   ]
  },
  {
   "cell_type": "code",
   "execution_count": 1,
   "metadata": {},
   "outputs": [
    {
     "name": "stdout",
     "output_type": "stream",
     "text": [
      "tf.Tensor(\n",
      "[[1. 2. 3.]\n",
      " [4. 5. 6.]], shape=(2, 3), dtype=float32)\n",
      "(2, 3)\n",
      "<dtype: 'float32'>\n"
     ]
    }
   ],
   "source": [
    "import tensorflow as tf\n",
    "\n",
    "x = tf.constant([[1., 2., 3.], [4., 5., 6.]])\n",
    "\n",
    "print(x)\n",
    "print(x.shape)\n",
    "print(x.dtype)\n"
   ]
  },
  {
   "cell_type": "markdown",
   "metadata": {},
   "source": [
    "# tf.constant operations.."
   ]
  },
  {
   "cell_type": "code",
   "execution_count": 2,
   "metadata": {},
   "outputs": [
    {
     "name": "stdout",
     "output_type": "stream",
     "text": [
      "Addition operation..\n",
      "tf.Tensor(\n",
      "[[ 2.  4.  6.]\n",
      " [ 8. 10. 12.]], shape=(2, 3), dtype=float32)\n",
      "Multiplication operation..\n",
      "tf.Tensor(\n",
      "[[ 5. 10. 15.]\n",
      " [20. 25. 30.]], shape=(2, 3), dtype=float32)\n",
      "Transpose operation..\n",
      "tf.Tensor(\n",
      "[[1. 4.]\n",
      " [2. 5.]\n",
      " [3. 6.]], shape=(3, 2), dtype=float32)\n",
      "Concatination operation..\n",
      "tf.Tensor(\n",
      "[[1. 2. 3.]\n",
      " [4. 5. 6.]\n",
      " [1. 2. 3.]\n",
      " [4. 5. 6.]\n",
      " [1. 2. 3.]\n",
      " [4. 5. 6.]], shape=(6, 3), dtype=float32)\n",
      "Reduced sum..\n",
      "tf.Tensor(21.0, shape=(), dtype=float32)\n",
      "Exponential operation..\n",
      "tf.Tensor(\n",
      "[[  2.7182817   7.389056   20.085537 ]\n",
      " [ 54.59815   148.41316   403.4288   ]], shape=(2, 3), dtype=float32)\n",
      "Softmax..\n",
      "tf.Tensor(\n",
      "[[0.09003057 0.24472848 0.66524094]\n",
      " [0.09003057 0.24472848 0.66524094]], shape=(2, 3), dtype=float32)\n"
     ]
    }
   ],
   "source": [
    "# tensors addition..\n",
    "print(\"Addition operation..\")\n",
    "print(x+x)\n",
    "\n",
    "# tensor and scaler multiplication..\n",
    "print(\"Multiplication operation..\")\n",
    "print(5*x)\n",
    "\n",
    "# transpose calculates the transpose of the tensor..\n",
    "print(\"Transpose operation..\")\n",
    "print(tf.transpose(x))\n",
    "\n",
    "# concatination can be done based on axis\n",
    "# axis zero refers to row based concatination and vice versa..\n",
    "print(\"Concatination operation..\")\n",
    "print(tf.concat([x, x, x], axis=0))\n",
    "\n",
    "# reduced sum calculates the sum of all the elements combined..\n",
    "print(\"Reduced sum..\")\n",
    "print(tf.reduce_sum(x))\n",
    "\n",
    "# exponential operation\n",
    "# y = e**(element)\n",
    "print(\"Exponential operation..\")\n",
    "print(tf.math.exp(x))\n",
    "\n",
    "# softmax is computed using tf.exp(x) / tf.reduced_sum(tf.exp(x), axis)\n",
    "print(\"Softmax..\")\n",
    "print(tf.nn.softmax(x))\n"
   ]
  }
 ],
 "metadata": {
  "interpreter": {
   "hash": "35146d2ce121e8e653791712ad16cca408ea08bd1c84e92938f653a743d84e6c"
  },
  "kernelspec": {
   "display_name": "Python 3.8.10 64-bit ('Graphs': conda)",
   "language": "python",
   "name": "python3"
  },
  "language_info": {
   "codemirror_mode": {
    "name": "ipython",
    "version": 3
   },
   "file_extension": ".py",
   "mimetype": "text/x-python",
   "name": "python",
   "nbconvert_exporter": "python",
   "pygments_lexer": "ipython3",
   "version": "3.8.10"
  },
  "orig_nbformat": 4
 },
 "nbformat": 4,
 "nbformat_minor": 2
}
