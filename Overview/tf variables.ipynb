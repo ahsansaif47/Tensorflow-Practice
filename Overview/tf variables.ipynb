{
 "cells": [
  {
   "cell_type": "code",
   "execution_count": 1,
   "metadata": {},
   "outputs": [
    {
     "data": {
      "text/plain": [
       "<tf.Variable 'UnreadVariable' shape=(3,) dtype=int32, numpy=array([1, 2, 3])>"
      ]
     },
     "execution_count": 1,
     "metadata": {},
     "output_type": "execute_result"
    }
   ],
   "source": [
    "from numpy import gradient\n",
    "import tensorflow as tf\n",
    "\n",
    "# variable comprising of zeros..\n",
    "var = tf.Variable([0, 0, 0])\n",
    "\n",
    "# assigning it some value..\n",
    "var.assign([1, 2, 3])\n"
   ]
  },
  {
   "cell_type": "markdown",
   "metadata": {},
   "source": [
    "# differenciation..\n",
    " y = f(x)\n",
    " \n",
    " calculating gradients of model loss/error with model weights.\n"
   ]
  },
  {
   "cell_type": "code",
   "execution_count": 2,
   "metadata": {},
   "outputs": [
    {
     "name": "stdout",
     "output_type": "stream",
     "text": [
      "Value of y is: -2.0\n",
      "First derivative of y is: 4.0\n"
     ]
    }
   ],
   "source": [
    "x = tf.Variable(1.0)\n",
    "\n",
    "\n",
    "def f(x):\n",
    "    y = x**2 + 2*x - 5\n",
    "    return y\n",
    "\n",
    "\n",
    "# now calculating derivative of function y wrt x\n",
    "with tf.GradientTape() as tape:\n",
    "    y = f(x)\n",
    "    print(\"Value of y is: {}\".format(y))\n",
    "\n",
    "der_y = tape.gradient(y, x)\n",
    "print(\"First derivative of y is: {}\".format(der_y))\n"
   ]
  }
 ],
 "metadata": {
  "interpreter": {
   "hash": "35146d2ce121e8e653791712ad16cca408ea08bd1c84e92938f653a743d84e6c"
  },
  "kernelspec": {
   "display_name": "Python 3.8.10 64-bit ('Graphs': conda)",
   "language": "python",
   "name": "python3"
  },
  "language_info": {
   "codemirror_mode": {
    "name": "ipython",
    "version": 3
   },
   "file_extension": ".py",
   "mimetype": "text/x-python",
   "name": "python",
   "nbconvert_exporter": "python",
   "pygments_lexer": "ipython3",
   "version": "3.8.10"
  },
  "orig_nbformat": 4
 },
 "nbformat": 4,
 "nbformat_minor": 2
}
